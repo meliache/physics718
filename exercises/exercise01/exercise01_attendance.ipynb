{
 "cells": [
  {
   "cell_type": "markdown",
   "metadata": {},
   "source": [
    "# Introduction to Jupyter Notebooks\n",
    "\n",
    "\n",
    "Jupyter Notebooks are composed of cells, which can contain code or text in the [markdown](https://jupyter-notebook.readthedocs.io/en/latest/examples/Notebook/Working%20With%20Markdown%20Cells.html) format.  \n",
    "<img src=\"https://jupyter-notebook.readthedocs.io/en/stable/_images/blank-notebook-ui.png\" alt=\"Cell\" style=\"width: 500px;\"/>\n",
    "\n",
    "Cells can be executed with `Ctrl`+`Return` (execute cell) or `Shift`+`Return` (execute cell and move to next cell). Execute the following cell:"
   ]
  },
  {
   "cell_type": "code",
   "execution_count": null,
   "metadata": {},
   "outputs": [],
   "source": [
    "print(\"Hello World\")"
   ]
  },
  {
   "cell_type": "markdown",
   "metadata": {},
   "source": [
    "# Understanding notebook state\n",
    "\n",
    "After a cell is executed, the *state* of all objects (variables) persists as it was when the cell finished executing. The order in which the cells are written in the notebook does not matter, what matters is the order in which they are executed, which can be useful but can also lead to confusion."
   ]
  },
  {
   "cell_type": "markdown",
   "metadata": {},
   "source": [
    "Execute the following cell.\n",
    "\n",
    "(In notebooks, if the last line is a naked variable without an assignment, its value is displayed automatically)"
   ]
  },
  {
   "cell_type": "code",
   "execution_count": null,
   "metadata": {},
   "outputs": [],
   "source": [
    "x = 0\n",
    "x"
   ]
  },
  {
   "cell_type": "markdown",
   "metadata": {},
   "source": [
    "Execute the following cell multiple time in a row, e.g. by pressing `Ctrl`+`Return` many times. Think of at least one way to change this to make sure the cell gives the same result each time it is executed"
   ]
  },
  {
   "cell_type": "code",
   "execution_count": null,
   "metadata": {},
   "outputs": [],
   "source": [
    "x += 1 # equivalent to x = x + 1\n",
    "x"
   ]
  },
  {
   "cell_type": "markdown",
   "metadata": {},
   "source": [
    "Can you guess happened in the the following example? Can you reproduce it below?\n",
    "\n",
    "Hint: Look at the numbers in square brackets. What do they mean?\n",
    "\n",
    "<img src=\"https://lh3.googleusercontent.com/vh4xIwkmkm-kN0JepHDfOO3fPKRJZhQwvXP10b5Pff8w_8kOG8ufz0Z_B5gEffuWRTdMofveY-PxXUy2zqlOy1aNf9kptsdb_nGwQM2_HGJu7g2Ym4ZjYgmoxYVdJRWZ6NAfHJYI7V0\" alt=\"Notebook Screenshot\" style=\"width: 500px;\"/>\n",
    "\n",
    "Source: [Talk: Why I don't like notebooks](https://docs.google.com/presentation/d/1n2RlMdmv1p25Xy5thJUhkKGvjtV-dkAIsUXP-AL4ffI/edit#slide=id.g3a428e2eb8_0_174)\n"
   ]
  },
  {
   "cell_type": "code",
   "execution_count": null,
   "metadata": {},
   "outputs": [],
   "source": [
    "def f(x):\n",
    "    return x + 2"
   ]
  },
  {
   "cell_type": "code",
   "execution_count": null,
   "metadata": {},
   "outputs": [],
   "source": [
    "y = f(2)"
   ]
  },
  {
   "cell_type": "code",
   "execution_count": null,
   "metadata": {},
   "outputs": [],
   "source": [
    "print(y)"
   ]
  },
  {
   "cell_type": "markdown",
   "metadata": {},
   "source": [
    "# Restarting the Kernel\n",
    "\n",
    "When working in a notebook for a long time, it can easily happen that you loose track internal state and run into bugs. Thus, it is often useful to restart the so-called *Kernel*, which is the python process that is running the notebook. Use the menu to restart the Jupyter Kernel and re-run all cells up to now. If all cells run as expected, you know that you notebook is in a clean state."
   ]
  },
  {
   "cell_type": "markdown",
   "metadata": {},
   "source": [
    "# Variable assignment and mutability\n",
    "\n",
    "You might be confident now with using variables, but let's take a closer look anyway."
   ]
  },
  {
   "cell_type": "code",
   "execution_count": null,
   "metadata": {},
   "outputs": [],
   "source": [
    "x = 1\n",
    "y = x\n",
    "print(f\"x: {x}, y: {y}\")"
   ]
  },
  {
   "cell_type": "markdown",
   "metadata": {},
   "source": [
    "So far all as expected, now let's change the value of x:"
   ]
  },
  {
   "cell_type": "code",
   "execution_count": null,
   "metadata": {},
   "outputs": [],
   "source": [
    "x = 5"
   ]
  },
  {
   "cell_type": "markdown",
   "metadata": {},
   "source": [
    "What do you expect for y to be now? \n",
    "- [ ] A: `y` stays the same value (1)\n",
    "- [ ] B: `y` also changes to `5`.\n",
    "\n",
    "Think for some time what you expect and then execute the cell"
   ]
  },
  {
   "cell_type": "code",
   "execution_count": null,
   "metadata": {},
   "outputs": [],
   "source": [
    "print(f\"x: {x}, y: {y}\")"
   ]
  },
  {
   "cell_type": "markdown",
   "metadata": {},
   "source": [
    "The `=` operator in python stands for assigment and always assigns value of the variable on the right to the variable on the left. So the value of x changed, but y still points to the old value of x to which it was assigned.\n",
    "\n",
    "Now let's try to do the same with lists:"
   ]
  },
  {
   "cell_type": "code",
   "execution_count": null,
   "metadata": {},
   "outputs": [],
   "source": [
    "x = [3, 1, 4]\n",
    "y = x\n",
    "print(f\"x: {x}\\ny: {y}\")"
   ]
  },
  {
   "cell_type": "markdown",
   "metadata": {},
   "source": [
    "What do you expect now when we run the following:"
   ]
  },
  {
   "cell_type": "code",
   "execution_count": null,
   "metadata": {},
   "outputs": [],
   "source": [
    "x += [1, 5, 9]"
   ]
  },
  {
   "cell_type": "markdown",
   "metadata": {},
   "source": [
    "- [ ] A: `y` stays the same value\n",
    "- [ ] B: `y` also changes"
   ]
  },
  {
   "cell_type": "code",
   "execution_count": null,
   "metadata": {},
   "outputs": [],
   "source": [
    "print(f\"x: {x}\\n y: {y}\")"
   ]
  },
  {
   "cell_type": "markdown",
   "metadata": {},
   "source": [
    "What happened here? People with C++ experience might think about pointers and copy by reference, but in python assigment is always with values.\n",
    "The `y = x` simply means that `y` is the same list object as `x`, but that object is `mutable`, that means the contents of the list can change, though it stays the same object. In this case, the `+=` operator changes the list object in place by appending the elements of another list to it.\n",
    "\n",
    "However, something changes when we replace `x += 1` by `x = x + 1`:"
   ]
  },
  {
   "cell_type": "code",
   "execution_count": null,
   "metadata": {},
   "outputs": [],
   "source": [
    "x = [3, 1, 4]\n",
    "y = x\n",
    "x = x + [1, 5, 9]\n",
    "print(f\"x: {x}\\ny: {y}\")"
   ]
  },
  {
   "cell_type": "markdown",
   "metadata": {},
   "source": [
    "Explain what changes with `x = x + 1` compared to `x += 1` when x is a list?\n",
    "\n",
    "If you're surprised by this, you can read more surprising facts in the blog post and talk: [Python Names and Values](https://nedbatchelder.com/text/names1.html).\n"
   ]
  },
  {
   "cell_type": "markdown",
   "metadata": {},
   "source": [
    "# Import code from your files\n",
    "\n",
    "In notebooks, you can use all code that you have written into python files (_modules_) by importing them. It's easiest when they are in the same directory, then you can just import them via the _module_ name (the file name without the `.py`). Execute the following cell to load the functions that we you define in the previous exercise:"
   ]
  },
  {
   "cell_type": "code",
   "execution_count": null,
   "metadata": {},
   "outputs": [],
   "source": [
    "# the `%`-commands are jupyter magic commands and only work in jupyter\n",
    "# this autoreload magic automatically re-imports your functions whenenver the source file changes.\n",
    "# Other wise you would have to re-start the jupyter kernel every time that you change the imported functions in the source file\n",
    "%load_ext autoreload\n",
    "%autoreload 2\n",
    "\n",
    "from exercise01_attendance import sum_of_odds_while, sum_of_odds_builtins"
   ]
  },
  {
   "cell_type": "markdown",
   "metadata": {},
   "source": [
    "Let's see the function documentation. In Jupyter Lab you can use `Shift+Tab` to open the documentation of an object under the cursor,\n",
    "Alternatively you can use `?` or even `??`, e.g."
   ]
  },
  {
   "cell_type": "code",
   "execution_count": null,
   "metadata": {},
   "outputs": [],
   "source": [
    "sum_of_odds_while??"
   ]
  },
  {
   "cell_type": "markdown",
   "metadata": {},
   "source": [
    "If your function are buggy, it might be useful to import them into a notebook and test them for different input values interactively (in the long-term I recommend using unit tests but we will learn about them later). E.g. let's look at the output of our `sum_of_odds_while` function:"
   ]
  },
  {
   "cell_type": "code",
   "execution_count": null,
   "metadata": {},
   "outputs": [],
   "source": [
    "for n in range(15):\n",
    "    print(sum_of_odds_while(n))"
   ]
  },
  {
   "cell_type": "markdown",
   "metadata": {},
   "source": [
    "If it hasn't been obvious until now, you should see a pattern now :)"
   ]
  },
  {
   "cell_type": "markdown",
   "metadata": {},
   "source": [
    "# Put code from your notebooks back into files\n",
    "\n",
    "Whenever you have some python code in a notebook that you think you will want re-use in the future, it is useful wrap it in a function or class and put it into a utility file that you then just import from the notebook. You can then even use it in other notebooks and this approach might help decluttering large notebooks.\n",
    "\n",
    "(In the future, if you're developing a python project with multiple files, you can [learn](https://python-packaging.readthedocs.io/en/latest/) how to make it an installable python package, so that you can import it no matter where it is on the file system, like any other python library.)"
   ]
  },
  {
   "cell_type": "markdown",
   "metadata": {},
   "source": [
    "- Write a function that returns a list of sums-of-odds"
   ]
  },
  {
   "cell_type": "code",
   "execution_count": null,
   "metadata": {},
   "outputs": [],
   "source": [
    "def list_of_sum_of_odds(n):\n",
    "    pass\n",
    "list_of_sum_of_odds(10)"
   ]
  },
  {
   "cell_type": "markdown",
   "metadata": {},
   "source": [
    "- Now copy the function that you wrote into the `exercise01_attendance.py` file and import it from there:"
   ]
  },
  {
   "cell_type": "code",
   "execution_count": null,
   "metadata": {},
   "outputs": [],
   "source": [
    "from exercise01_attendance import list_of_sum_of_odds\n",
    "list_of_sum_of_odds(10)"
   ]
  },
  {
   "cell_type": "markdown",
   "metadata": {},
   "source": [
    "# Final words\n",
    "\n",
    "We will come back to notebooks when you will learn about about scientific data exploration, analysis and visualization in python, then this format will really make sense :)"
   ]
  },
  {
   "cell_type": "code",
   "execution_count": null,
   "metadata": {},
   "outputs": [],
   "source": []
  }
 ],
 "metadata": {
  "kernelspec": {
   "display_name": "Python 3.7.10 64-bit ('physics718': conda)",
   "language": "python",
   "name": "python371064bitphysics718condaf4404bc702d3456486d4206d69e926ef"
  },
  "language_info": {
   "codemirror_mode": {
    "name": "ipython",
    "version": 3
   },
   "file_extension": ".py",
   "mimetype": "text/x-python",
   "name": "python",
   "nbconvert_exporter": "python",
   "pygments_lexer": "ipython3",
   "version": "3.7.10"
  }
 },
 "nbformat": 4,
 "nbformat_minor": 4
}