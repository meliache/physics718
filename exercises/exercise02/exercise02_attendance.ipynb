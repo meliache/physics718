{
 "cells": [
  {
   "cell_type": "markdown",
   "metadata": {},
   "source": [
    "# Attendance Exercise 02\n",
    "\n",
    "In this exercise we will some of the basics of  object-oriented programming (OOP), which offer a way to bundle together data and functions that operate on that data, modifying the internal _state_ of the object.\n",
    "\n",
    "To test your solutions, check out the tests at the end of the exercise."
   ]
  },
  {
   "cell_type": "code",
   "execution_count": null,
   "metadata": {},
   "outputs": [],
   "source": [
    "%load_ext autoreload\n",
    "%autoreload 2\n",
    "import unittest\n",
    "\n",
    "# following is needed for Polygon drawing\n",
    "import matplotlib.pyplot as plt\n",
    "import numpy as np\n",
    "\n",
    "from base_classes import Shape, Vector2D\n",
    "from utils import print_python_code"
   ]
  },
  {
   "cell_type": "markdown",
   "metadata": {},
   "source": [
    "## 1. Simple class `Person`\n",
    "\n",
    "In their most simple form classes can be used as a data record. Their data is stored in attributes (member variables, denoted with `self.<varname>` where `self` is stands for the instance of the class)."
   ]
  },
  {
   "cell_type": "code",
   "execution_count": null,
   "metadata": {},
   "outputs": [],
   "source": [
    "class Person():\n",
    "    def __init__(self, first_name, last_name, age):\n",
    "        # self.first_name =\n",
    "        # self.... = ..\n",
    "        raise NotImplementedError\n",
    "\n",
    "    def full_name(self):\n",
    "        \"\"\"Returns full name (`<first name> <last name>` as string)\"\"\"\n",
    "        # Replace the next line with your implementaton...\n",
    "        raise NotImplementedError\n",
    "        \n",
    "    def say_hello(self):\n",
    "        \"\"\"Prints `Hello <first name> <last name>`\"\"\"\n",
    "        raise NotImplementedError\n",
    "\n",
    "\n",
    "    def older_than(self, other):\n",
    "        \"\"\"Return ``True`` if Person is older than other person\"\"\"\n",
    "        raise NotImplementedError\n",
    "\n",
    "    \n",
    "    def __gt__(self, other):\n",
    "        raise NotImplementedError\n",
    "\n",
    "    \n",
    "    def __str__(self):\n",
    "        raise NotImplementedError"
   ]
  },
  {
   "cell_type": "code",
   "execution_count": null,
   "metadata": {},
   "outputs": [],
   "source": [
    "person1 = Person(\"Brian\", \"Kernighan\", 79)\n",
    "print(person1)"
   ]
  },
  {
   "cell_type": "code",
   "execution_count": null,
   "metadata": {},
   "outputs": [],
   "source": [
    "print(person1.first_name, person1.last_name, person1.age)"
   ]
  },
  {
   "cell_type": "code",
   "execution_count": null,
   "metadata": {},
   "outputs": [],
   "source": [
    "person1.say_hello()\n",
    "print(person1)"
   ]
  },
  {
   "cell_type": "code",
   "execution_count": null,
   "metadata": {},
   "outputs": [],
   "source": [
    "person2 = Person(\"Margaret\", \"Hamilton\", 84)\n",
    "print(person2)"
   ]
  },
  {
   "cell_type": "code",
   "execution_count": null,
   "metadata": {},
   "outputs": [],
   "source": [
    "person2.older_than(person1)"
   ]
  },
  {
   "cell_type": "code",
   "execution_count": null,
   "metadata": {},
   "outputs": [],
   "source": [
    "person2 > person1"
   ]
  },
  {
   "cell_type": "code",
   "execution_count": null,
   "metadata": {},
   "outputs": [],
   "source": [
    "import io\n",
    "from contextlib import redirect_stdout\n",
    "    \n",
    "class TestPerson(unittest.TestCase):\n",
    "    def setUp(self):\n",
    "        self.person1 = Person(\"Brian\", \"Kernighan\", 79)\n",
    "        self.person2 = Person(\"Margaret\", \"Hamilton\", 84)\n",
    "    \n",
    "    def test_attributes(self):\n",
    "        self.assertEqual(self.person1.first_name, \"Brian\")\n",
    "        self.assertEqual(self.person1.last_name, \"Kernighan\")\n",
    "        self.assertEqual(self.person1.age, 79)\n",
    "    \n",
    "    def test_full_name(self):\n",
    "        self.assertEqual(self.person2.full_name(), \"Margaret Hamilton\")\n",
    "        \n",
    "    def test_str(self):\n",
    "        self.assertEqual(str(self.person2), self.person2.full_name())\n",
    "        \n",
    "    def test_say_hello(self):\n",
    "        out = io.StringIO()\n",
    "        with redirect_stdout(out):\n",
    "            self.person2.say_hello()\n",
    "        self.assertEqual(out.getvalue().strip(), \"Hello Margaret Hamilton\")\n",
    "    \n",
    "    def test_older_than(self):\n",
    "        self.assertFalse(self.person1.older_than(person2))\n",
    "        self.assertTrue(self.person2.older_than(person1))\n",
    "        \n",
    "        \n",
    "suite = unittest.defaultTestLoader.loadTestsFromTestCase(TestPerson)\n",
    "runner = unittest.TextTestRunner(verbosity=2)\n",
    "runner.run(suite)"
   ]
  },
  {
   "cell_type": "markdown",
   "metadata": {},
   "source": [
    "## 2. Extending a class\n",
    "\n",
    "In the lecture you have seen the class `Vector2D`, which I have included in the module `vector_2d`."
   ]
  },
  {
   "cell_type": "code",
   "execution_count": null,
   "metadata": {
    "tags": []
   },
   "outputs": [],
   "source": [
    "from vector_2d import Vector2D\n",
    "print_python_code(Vector2D)"
   ]
  },
  {
   "cell_type": "markdown",
   "metadata": {},
   "source": [
    "That implementation already contains vector addition, substraction and multiplication (both dot product and scalar multiplication). "
   ]
  },
  {
   "cell_type": "code",
   "execution_count": null,
   "metadata": {},
   "outputs": [],
   "source": [
    "v1 = Vector2D(2, 0)\n",
    "v2 = Vector2D(-2, 2)\n",
    "print(v1 * 2)\n",
    "print(v1 + v2)\n",
    "print(v1 * v2)\n",
    "print((v1-v2).to_polar())\n",
    "# play around on your own to see what's supprted"
   ]
  },
  {
   "cell_type": "markdown",
   "metadata": {},
   "source": [
    "What's still missing is the devision operator `/` for devisision with a scalar. Without it, the following code for example fails:"
   ]
  },
  {
   "cell_type": "code",
   "execution_count": null,
   "metadata": {
    "tags": []
   },
   "outputs": [],
   "source": [
    "v1 = Vector2D(2, 0)\n",
    "v2 = Vector2D(-2, 2)\n",
    "\n",
    "mean = (v1 + v2) / 2\n",
    "mean"
   ]
  },
  {
   "cell_type": "markdown",
   "metadata": {},
   "source": [
    "- To fix this, to implement the `__truediv__` method. Open the file and edit it in VSCode, adding a function\n",
    "\n",
    "``` python\n",
    "def __truediv__(self, other):\n",
    "    ...\n",
    "```\n",
    "\n",
    "- Use this functional to implement a method `normal`, which returns a vector with the same direction, but normalized to unit length\n",
    "- Implement the method `angle_to` to get the angle between two vectors."
   ]
  },
  {
   "cell_type": "code",
   "execution_count": null,
   "metadata": {},
   "outputs": [],
   "source": [
    "import math\n",
    "\n",
    "class TestNewVector2D(unittest.TestCase):\n",
    "    \n",
    "    def test_truediv(self):\n",
    "        v = Vector2D(0.5, -4)\n",
    "        self.assertAlmostEqual(v / 2, Vector2D(0.25, -2))\n",
    "    \n",
    "    def test_normal(self):\n",
    "        v = Vector2D(1, 1)\n",
    "        nv = v.normal()\n",
    "        self.assertAlmostEqual(nv, v / math.sqrt(2))\n",
    "        # test old vector is unchanged\n",
    "        self.assertEqual(v, Vector2D(1, 1))\n",
    "    \n",
    "    def test_angle_to(self):\n",
    "        v1 = Vector2D(0.5, 0)\n",
    "        v2 = Vector2D(10, 10)\n",
    "        angle = v1.angle_to(v2)\n",
    "        self.assertAlmostEqual(angle, math.pi/4)\n",
    "        \n",
    "suite = unittest.defaultTestLoader.loadTestsFromTestCase(TestNewVector2D)\n",
    "runner.run(suite)"
   ]
  },
  {
   "cell_type": "markdown",
   "metadata": {},
   "source": [
    "## 3. Simple Inheritance"
   ]
  },
  {
   "cell_type": "markdown",
   "metadata": {},
   "source": [
    "One method to extent existing code without directly editing it, is to _inherit_ a class from it. The _sub-class_ inherits all methods and attributes of the super-class, so we don't have to re-implement or copy-paste the existing code. The syntax for inheritance is\n",
    "``` python\n",
    "class SubClass(SuperClass):\n",
    "```\n",
    "The sub-class is by convention a _specification_ of the more general super-class. This means that all methods that are supported by the super-class should be supported by the sub-class, but the sub-class can implement methods that the super-class doesn't have. A subclass always _is_ also an instance of the super-class."
   ]
  },
  {
   "cell_type": "markdown",
   "metadata": {},
   "source": [
    "Imagine a particle is described by its velocity vector and its mass, but we are not interested in this position. Then, one can represent the particle as sub-class of `Vector2D`. Mind that the `x` and `y` should represent the particle velocity for the purpose of this problem.\n",
    "\n",
    "- Implement an `__init__(self, vx, vy, mass)` method that sets the `x`/`y`-components of the super-class (hint: use `super().__init__`)  and sets the mass property\n",
    "- Impliment `momentum()` and `energy()` methods. The `momentum()` should return an instance of `Vector2D`\n"
   ]
  },
  {
   "cell_type": "code",
   "execution_count": null,
   "metadata": {},
   "outputs": [],
   "source": [
    "class Particle(Vector2D):\n",
    "    \"\"\"\n",
    "    A particle with velocity and mass but no position. x and y referer to its velocity components.\n",
    "    \"\"\"\n",
    "    def __init__(self, vx, vy , mass):\n",
    "        # super().__init__(...)\n",
    "        # self.... = ..."
   ]
  },
  {
   "cell_type": "code",
   "execution_count": null,
   "metadata": {},
   "outputs": [],
   "source": [
    "p = Particle(1, 1, 10)\n",
    "print(p.mass, p.energy(), p.momentum())"
   ]
  },
  {
   "cell_type": "code",
   "execution_count": null,
   "metadata": {},
   "outputs": [],
   "source": [
    "isinstance(p, Vector2D)"
   ]
  },
  {
   "cell_type": "code",
   "execution_count": null,
   "metadata": {},
   "outputs": [],
   "source": [
    "class TestParticle(unittest.TestCase):\n",
    "    \n",
    "    def test_is_Vector2D(self):\n",
    "        p = Particle(1, 0, 2)\n",
    "        self.assertIsInstance(p, Vector2D)\n",
    "        \n",
    "    def test_init(self):\n",
    "        p = Particle(1, 0, 2)\n",
    "        self.assertAlmostEqual(p.mass, 2)\n",
    "        self.assertAlmostEqual(p.x, 1)\n",
    "        self.assertAlmostEqual(p.y, 0)\n",
    "\n",
    "    \n",
    "    def test_momentum(self):\n",
    "        p = Particle(1, 0, 2)\n",
    "        self.assertEqual(p.momentum(), Vector2D(2, 0))\n",
    "    \n",
    "    def test_energy(self):\n",
    "        p = Particle(1, 0, 2)\n",
    "        self.assertEqual(p.energy(), 1)\n",
    "        \n",
    "        \n",
    "suite = unittest.defaultTestLoader.loadTestsFromTestCase(TestParticle)\n",
    "runner.run(suite)"
   ]
  },
  {
   "cell_type": "markdown",
   "metadata": {},
   "source": [
    "Make sure you get an error if you try to instantiate your rectangle with points for a parallelogram"
   ]
  }
 ],
 "metadata": {
  "kernelspec": {
   "display_name": "Python 3",
   "language": "python",
   "name": "python3"
  },
  "language_info": {
   "codemirror_mode": {
    "name": "ipython",
    "version": 3
   },
   "file_extension": ".py",
   "mimetype": "text/x-python",
   "name": "python",
   "nbconvert_exporter": "python",
   "pygments_lexer": "ipython3",
   "version": "3.7.10"
  }
 },
 "nbformat": 4,
 "nbformat_minor": 4
}
